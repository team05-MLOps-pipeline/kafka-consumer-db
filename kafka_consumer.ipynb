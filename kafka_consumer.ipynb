{
  "nbformat": 4,
  "nbformat_minor": 0,
  "metadata": {
    "colab": {
      "provenance": [],
      "authorship_tag": "ABX9TyPzSUpNosxVYzqNqsYOmaaW",
      "include_colab_link": true
    },
    "kernelspec": {
      "name": "python3",
      "display_name": "Python 3"
    },
    "language_info": {
      "name": "python"
    }
  },
  "cells": [
    {
      "cell_type": "markdown",
      "metadata": {
        "id": "view-in-github",
        "colab_type": "text"
      },
      "source": [
        "<a href=\"https://colab.research.google.com/github/team05-MLOps-pipeline/kafka-consumer-db/blob/main/kafka_consumer.ipynb\" target=\"_parent\"><img src=\"https://colab.research.google.com/assets/colab-badge.svg\" alt=\"Open In Colab\"/></a>"
      ]
    },
    {
      "cell_type": "code",
      "execution_count": 1,
      "metadata": {
        "colab": {
          "base_uri": "https://localhost:8080/"
        },
        "id": "as4Hro1yzHJj",
        "outputId": "0662af2e-1fa3-4017-a2cc-686f53714565"
      },
      "outputs": [
        {
          "output_type": "stream",
          "name": "stdout",
          "text": [
            "Collecting confluent-kafka\n",
            "  Downloading confluent_kafka-2.2.0-cp310-cp310-manylinux_2_17_x86_64.manylinux2014_x86_64.whl (4.0 MB)\n",
            "\u001b[2K     \u001b[90m━━━━━━━━━━━━━━━━━━━━━━━━━━━━━━━━━━━━━━━━\u001b[0m \u001b[32m4.0/4.0 MB\u001b[0m \u001b[31m26.9 MB/s\u001b[0m eta \u001b[36m0:00:00\u001b[0m\n",
            "\u001b[?25hCollecting mysql-connector-python\n",
            "  Downloading mysql_connector_python-8.1.0-cp310-cp310-manylinux_2_17_x86_64.whl (27.5 MB)\n",
            "\u001b[2K     \u001b[90m━━━━━━━━━━━━━━━━━━━━━━━━━━━━━━━━━━━━━━━━\u001b[0m \u001b[32m27.5/27.5 MB\u001b[0m \u001b[31m53.8 MB/s\u001b[0m eta \u001b[36m0:00:00\u001b[0m\n",
            "\u001b[?25hCollecting protobuf<=4.21.12,>=4.21.1 (from mysql-connector-python)\n",
            "  Downloading protobuf-4.21.12-cp37-abi3-manylinux2014_x86_64.whl (409 kB)\n",
            "\u001b[2K     \u001b[90m━━━━━━━━━━━━━━━━━━━━━━━━━━━━━━━━━━━━━━\u001b[0m \u001b[32m409.8/409.8 kB\u001b[0m \u001b[31m33.4 MB/s\u001b[0m eta \u001b[36m0:00:00\u001b[0m\n",
            "\u001b[?25hInstalling collected packages: confluent-kafka, protobuf, mysql-connector-python\n",
            "  Attempting uninstall: protobuf\n",
            "    Found existing installation: protobuf 3.20.3\n",
            "    Uninstalling protobuf-3.20.3:\n",
            "      Successfully uninstalled protobuf-3.20.3\n",
            "\u001b[31mERROR: pip's dependency resolver does not currently take into account all the packages that are installed. This behaviour is the source of the following dependency conflicts.\n",
            "tensorflow-metadata 1.14.0 requires protobuf<4.21,>=3.20.3, but you have protobuf 4.21.12 which is incompatible.\u001b[0m\u001b[31m\n",
            "\u001b[0mSuccessfully installed confluent-kafka-2.2.0 mysql-connector-python-8.1.0 protobuf-4.21.12\n"
          ]
        }
      ],
      "source": [
        "!pip install confluent-kafka mysql-connector-python"
      ]
    },
    {
      "cell_type": "code",
      "source": [
        "!pip install pymysql"
      ],
      "metadata": {
        "colab": {
          "base_uri": "https://localhost:8080/"
        },
        "id": "eAT--ZS_oco6",
        "outputId": "3ec47151-8d86-468c-a7ef-ecb7fc2c7231"
      },
      "execution_count": 2,
      "outputs": [
        {
          "output_type": "stream",
          "name": "stdout",
          "text": [
            "Collecting pymysql\n",
            "  Downloading PyMySQL-1.1.0-py3-none-any.whl (44 kB)\n",
            "\u001b[?25l     \u001b[90m━━━━━━━━━━━━━━━━━━━━━━━━━━━━━━━━━━━━━━━━\u001b[0m \u001b[32m0.0/44.8 kB\u001b[0m \u001b[31m?\u001b[0m eta \u001b[36m-:--:--\u001b[0m\r\u001b[2K     \u001b[90m━━━━━━━━━━━━━━━━━━━━━━━━━━━━━━━━━━━━━━━━\u001b[0m \u001b[32m44.8/44.8 kB\u001b[0m \u001b[31m1.3 MB/s\u001b[0m eta \u001b[36m0:00:00\u001b[0m\n",
            "\u001b[?25hInstalling collected packages: pymysql\n",
            "Successfully installed pymysql-1.1.0\n"
          ]
        }
      ]
    },
    {
      "cell_type": "code",
      "source": [
        "# 24시간이 넘는 수를 처리해주는 코드\n",
        "# 종료코드 적용 전\n",
        "\n",
        "from confluent_kafka import Consumer, KafkaException\n",
        "import pymysql\n",
        "import datetime\n",
        "import json\n",
        "\n",
        "# Kafka consumer 설정\n",
        "conf = {'bootstrap.servers': 'ip:9094',\n",
        "        'group.id': 'mygroup',\n",
        "        'auto.offset.reset': 'earliest'}\n",
        "consumer = Consumer(conf)\n",
        "\n",
        "# MySQL 연결 설정\n",
        "conn = pymysql.connect(host='ip',\n",
        "                       user='eun',\n",
        "                       port=13306,\n",
        "                       password='12341234!',\n",
        "                       db='eun_test',\n",
        "                       charset='utf8')\n",
        "cursor = conn.cursor()\n",
        "\n",
        "def convert_date(kr_date_str):\n",
        "    # \"2023.10.13. 오후 1:09\" --> \"2023-10-13 13:09\"\n",
        "    date_str, am_pm, time_str = kr_date_str.split()\n",
        "    hour, minute = map(int, time_str.split(':'))\n",
        "\n",
        "    if am_pm == \"오후\" and hour < 12:\n",
        "        hour += 12\n",
        "    elif am_pm == '오전' and hour == 12:\n",
        "        hour = 0\n",
        "\n",
        "    return f\"{date_str.replace('.', '-')} {hour:02d}:{minute:02d}:00\"\n",
        "\n",
        "try:\n",
        "    # Kafka topic 구독\n",
        "    consumer.subscribe(['euntest'])\n",
        "\n",
        "    while True:\n",
        "        msg = consumer.poll(1.0)  # timeout is set to 1 second\n",
        "\n",
        "        if msg is None:\n",
        "            continue\n",
        "        if msg.error():\n",
        "            raise KafkaException(msg.error())\n",
        "        else:\n",
        "            value = msg.value().decode('utf-8')\n",
        "            print('Received message: {}'.format(value))\n",
        "\n",
        "            # MySQL에 데이터 적재하기\n",
        "            sql = \"INSERT INTO Article (category_id, news_url, company_name, title, author_info, create_date,\\\n",
        "                   modify_date,content,image_url) VALUES (%s,%s,%s,%s,%s,%s,%s,%s,%s)\"\n",
        "\n",
        "            data=json.loads(value)\n",
        "\n",
        "            create_date_converted=convert_date(data['create_date'])\n",
        "\n",
        "            # try:\n",
        "            #     cursor.execute(sql,\n",
        "            #                    (data['category'], data['url'], data['site_name'], data['title'],\n",
        "            #                     data['author_info'], create_date_converted , None,\n",
        "            #                     data['content'], data['image_url']))\n",
        "            #     conn.commit()\n",
        "\n",
        "            # except pymysql.err.IntegrityError as e:\n",
        "            #     if e.args[0] == 1062:\n",
        "            #         print(f\"Duplicate entry {data['url']} skipped.\")\n",
        "            #     else:\n",
        "            #         raise e\n",
        "            cursor.execute(sql,\n",
        "                           (data['category'], data['url'], data['site_name'], data['title'],\n",
        "                            data['author_info'], create_date_converted , None,\n",
        "                            data['content'], data['image_url']))\n",
        "\n",
        "            conn.commit()  # 변경 사항 커밋\n",
        "\n",
        "except KeyboardInterrupt:\n",
        "    pass\n",
        "\n",
        "finally:\n",
        "\n",
        "   consumer.close()\n",
        "   cursor.close()\n",
        "   conn.close()"
      ],
      "metadata": {
        "id": "uv0gT7-5Dje4"
      },
      "execution_count": 10,
      "outputs": []
    },
    {
      "cell_type": "code",
      "source": [],
      "metadata": {
        "id": "D-1utpinE5dr"
      },
      "execution_count": null,
      "outputs": []
    }
  ]
}
